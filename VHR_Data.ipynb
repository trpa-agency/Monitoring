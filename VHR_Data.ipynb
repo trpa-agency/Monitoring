{
 "cells": [
  {
   "cell_type": "code",
   "execution_count": 1,
   "metadata": {},
   "outputs": [],
   "source": [
    "import pandas as pd\n",
    "import numpy as np\n",
    "import requests\n",
    "from arcgis import GIS\n",
    "import arcpy\n",
    "from arcgis.features import FeatureLayer\n",
    "from datetime import datetime\n",
    "import os\n",
    "\n",
    "# Connect to TRPA Enterprise GIS Portal\n",
    "portal_url = \"https://maps.trpa.org/portal\"\n",
    "gis = GIS(portal_url)\n",
    "arcpy.env.workspace = \"F:\\GIS\\PROJECTS\\ResearchAnalysis\\VHR\\Data\\VHR_Staging.gdb\"\n",
    "workspace           = r\"F:\\GIS\\PROJECTS\\ResearchAnalysis\\VHR\\Data\\VHR_Staging.gdb\"\n",
    "workspace_folder    = r\"F:\\GIS\\PROJECTS\\ResearchAnalysis\\VHR\\VHR\""
   ]
  },
  {
   "cell_type": "code",
   "execution_count": 2,
   "metadata": {},
   "outputs": [],
   "source": [
    "\n",
    "def get_fs_data(service_url):\n",
    "    \n",
    "    feature_layer = FeatureLayer(service_url)\n",
    "    query_result = feature_layer.query()\n",
    "    # Convert the query result to a list of dictionaries\n",
    "    feature_list = query_result.features\n",
    "\n",
    "    # Create a pandas DataFrame from the list of dictionaries\n",
    "    all_data = pd.DataFrame([feature.attributes for feature in feature_list])\n",
    "\n",
    "    return all_data\n",
    "\n",
    "def renamecolumns(df, column_mapping, county, jurisdiction):\n",
    "    df = df.rename(columns=column_mapping).drop(columns=[col for col in df.columns if col not in column_mapping])\n",
    "    df['county'] = county\n",
    "    df['jurisdiction'] = jurisdiction\n",
    "    return df\n",
    "def download_sdf(service_url):\n",
    "   \n",
    "    feature_layer = FeatureLayer(service_url)\n",
    "    query_result = feature_layer.query()\n",
    "# Convert the query result to a list of dictionaries\n",
    "    sdf = query_result.sdf\n",
    "    return sdf\n",
    "\n"
   ]
  },
  {
   "cell_type": "code",
   "execution_count": 3,
   "metadata": {},
   "outputs": [],
   "source": [
    "washoe_data_sdf = download_sdf('https://wcgisweb.washoecounty.us/arcgis/rest/services/OpenData/OpenData/MapServer/146')\n",
    "eldorado_data_sdf = download_sdf('https://see-eldorado.edcgov.us/arcgis/rest/services/Vhr_App/VHR_PERMITS/MapServer/1')\n",
    "placer_data_sdf = download_sdf('https://services6.arcgis.com/PArfeTGcwA9RGNzN/ArcGIS/rest/services/STR_Permits_231002_Parcels/FeatureServer/0')\n",
    "CSLT_data_sdf = download_sdf('https://services2.arcgis.com/gWRYLIS16mKUskSO/ArcGIS/rest/services/VHR_Public/FeatureServer/0')\n",
    "douglas_data_sdf = download_sdf('https://gisservices.douglasnv.us/server/rest/services/VHR_Occupancy/MapServer/67')\n",
    "CSLT_Hosted_Rental_Data_sdf = download_sdf('https://services2.arcgis.com/gWRYLIS16mKUskSO/arcgis/rest/services/Hosted_Rentals_Public/FeatureServer/0')\n"
   ]
  },
  {
   "cell_type": "code",
   "execution_count": 4,
   "metadata": {},
   "outputs": [
    {
     "name": "stdout",
     "output_type": "stream",
     "text": [
      "The operation was attempted on an empty geometry.\n"
     ]
    },
    {
     "data": {
      "text/plain": [
       "'F:\\\\GIS\\\\PROJECTS\\\\ResearchAnalysis\\\\VHR\\\\Data\\\\VHR_Staging.gdb\\\\VHR_Raw_DG'"
      ]
     },
     "execution_count": 4,
     "metadata": {},
     "output_type": "execute_result"
    }
   ],
   "source": [
    "washoe_data_sdf.spatial.to_featureclass(os.path.join(workspace, \"VHR_Raw_WA\"), sanitize_columns=False)\n",
    "eldorado_data_sdf.spatial.to_featureclass(os.path.join(workspace, \"VHR_Raw_EL\"), sanitize_columns=False)\n",
    "placer_data_sdf.spatial.to_featureclass(os.path.join(workspace, \"VHR_Raw_PL\"), sanitize_columns=False)\n",
    "CSLT_data_sdf.spatial.to_featureclass(os.path.join(workspace, \"VHR_Raw_CSLT\"), sanitize_columns=False)\n",
    "CSLT_Hosted_Rental_Data_sdf.spatial.to_featureclass(os.path.join(workspace, \"Hosted_Raw_CSLT\"), sanitize_columns=False)\n",
    "douglas_data_sdf.spatial.to_featureclass(os.path.join(workspace, \"VHR_Raw_DG\"), sanitize_columns=False)"
   ]
  },
  {
   "cell_type": "code",
   "execution_count": 5,
   "metadata": {},
   "outputs": [],
   "source": [
    "washoe_data = get_fs_data('https://wcgisweb.washoecounty.us/arcgis/rest/services/OpenData/OpenData/MapServer/146')\n",
    "eldorado_data = get_fs_data('https://see-eldorado.edcgov.us/arcgis/rest/services/Vhr_App/VHR_PERMITS/MapServer/1')\n",
    "placer_data = get_fs_data('https://services6.arcgis.com/PArfeTGcwA9RGNzN/ArcGIS/rest/services/STR_Permits_231002_Parcels/FeatureServer/0')\n",
    "CSLT__VHR_data = get_fs_data('https://services2.arcgis.com/gWRYLIS16mKUskSO/ArcGIS/rest/services/VHR_Public/FeatureServer/0')\n",
    "CSLT_Hosted_Rental_Data = get_fs_data('https://services2.arcgis.com/gWRYLIS16mKUskSO/arcgis/rest/services/Hosted_Rentals_Public/FeatureServer/0')\n",
    "douglas_data = get_fs_data('https://gisservices.douglasnv.us/server/rest/services/VHR_Occupancy/MapServer/67')"
   ]
  },
  {
   "cell_type": "code",
   "execution_count": 6,
   "metadata": {},
   "outputs": [],
   "source": [
    "#Can't figure out why field mapping is giving an error for this so I had to do a workaround\n",
    "washoe_data['APN']=washoe_data['B1_PARCEL_NBR']"
   ]
  },
  {
   "cell_type": "code",
   "execution_count": 22,
   "metadata": {},
   "outputs": [],
   "source": [
    "EL_Field_Mapping = {'APN' : 'APN', \n",
    "'License_Status' : 'Status', \n",
    "'Account_Number' : 'Permit_ID', \n",
    "'Number_of_Overnight_Guests' : 'Max_Occupancy'\n",
    "}\n",
    "PL_Field_Mapping = {\n",
    "   'COPY_STRPermits_231002_ExcelT_4' : 'APN', \n",
    "'COPY_STRPermits_231002_ExcelT_2' : 'Status', \n",
    "'COPY_STRPermits_231002_ExcelT_1' : 'Permit_ID' \n",
    "\n",
    "}\n",
    "WA_Field_Mapping = {\n",
    "  'APN' : 'APN', \n",
    "'APPL_STATUS' : 'Status', \n",
    "'Record_ID' : 'Permit_ID', \n",
    "'MaxOccupancy' : 'Max_Occupancy'\n",
    "\n",
    "}\n",
    "DG_Field_Mapping = {\n",
    "  'APN' : 'APN', \n",
    "'Permit_Status' : 'Status', \n",
    "'Accela_Permit__' : 'Permit_ID', \n",
    "'Max_Nighttime_Occupancy' : 'Max_Occupancy',\n",
    "'Expire_Date': 'expiration_date'\n",
    "}\n",
    "CSLT_Field_Mapping = {\n",
    "    'prcl_id' : 'APN', \n",
    "\n",
    "'bl_id' : 'Permit_ID', \n",
    "'occpy_max' : 'Max_Occupancy',\n",
    "'expiration': 'expiration_date'\n",
    "}\n",
    "CSLT_Hosted_Mapping = {\n",
    "    'prcl_id' : 'APN',\n",
    "    'Permit' : 'Permit_ID',\n",
    "    'permit_status': 'Status',\n",
    "    'Max_Occupancy': 'Max_Occupancy'\n",
    "}\n"
   ]
  },
  {
   "cell_type": "code",
   "execution_count": 23,
   "metadata": {},
   "outputs": [],
   "source": [
    "EL_VHR = renamecolumns(eldorado_data, EL_Field_Mapping, 'EL', 'EL')\n",
    "EL_VHR['APN'] = EL_VHR['APN'].str[:3]+'-'+EL_VHR['APN'].str[3:6]+'-'+EL_VHR['APN'].str[6:9]\n",
    "PL_VHR = renamecolumns(placer_data, PL_Field_Mapping, 'PL', 'PL')\n",
    "PL_VHR['APN']=PL_VHR['APN'].str[:11]\n",
    "DG_VHR = renamecolumns(douglas_data, DG_Field_Mapping, 'DG', 'DG')\n",
    "DG_VHR['APN']=DG_VHR['APN'].astype(str)\n",
    "DG_VHR['APN'] = DG_VHR['APN'].str[:4]+'-'+DG_VHR['APN'].str[4:6]+'-'+DG_VHR['APN'].str[6:9]+'-'+DG_VHR['APN'].str[9:12]\n",
    "DG_VHR['expiration_date']=pd.to_datetime(DG_VHR['expiration_date'], unit='ms')\n",
    "WA_VHR = renamecolumns(washoe_data, WA_Field_Mapping, 'WA', 'WA')\n",
    "WA_VHR['APN']=WA_VHR['APN']\n",
    "CSLT_VHR = renamecolumns(CSLT__VHR_data, CSLT_Field_Mapping, 'EL', 'CSLT')\n",
    "CSLT_VHR['APN'] = CSLT_VHR['APN']\n",
    "CSLT_VHR['expiration_date']=pd.to_datetime(CSLT_VHR['expiration_date'], unit='ms')\n",
    "CSLT_Hosted=renamecolumns(CSLT_Hosted_Rental_Data, CSLT_Hosted_Mapping, 'EL','CSLT')\n",
    "CSLT_Hosted['Rental_Type']=\"Hosted Rental\"\n",
    "VHR_Data = pd.concat([EL_VHR, PL_VHR, DG_VHR, WA_VHR, CSLT_VHR, CSLT_Hosted])\n"
   ]
  },
  {
   "cell_type": "code",
   "execution_count": 11,
   "metadata": {},
   "outputs": [],
   "source": [
    "\n",
    "def before_or_after_today(date):\n",
    "    today = datetime.now()\n",
    "    if date < today:\n",
    "        return 'expired'\n",
    "    else:\n",
    "        return 'active'\n",
    "VHR_Data['Rental_Type']=VHR_Data['Rental_Type'].fillna('VHR')\n",
    "VHR_Data.loc[(VHR_Data['jurisdiction']=='CSLT')&(VHR_Data['Status'].isna()), 'Status'] = VHR_Data.loc[(VHR_Data['jurisdiction']=='CSLT')&(VHR_Data['Status'].isna()),'expiration_date'].apply(before_or_after_today)\n"
   ]
  },
  {
   "cell_type": "code",
   "execution_count": 24,
   "metadata": {},
   "outputs": [],
   "source": [
    "status_lookup = {'VHR Permit- Waitlist' : 'Pending', \n",
    "'VHR Permit- Expired' : 'Inactive', \n",
    "'VHR Permit - Active' : 'Active', \n",
    "'VHR Permit- Submitted' : 'Pending', \n",
    "'VHR Permit- Approved for Payment' : 'Pending', \n",
    "'VHR Permit- Incomplete' : 'Pending', \n",
    "'VHR Permit - Inactive' : 'Inactive', \n",
    "'Inactive' : 'Inactive', \n",
    "'VHR Permit- Denied' : 'Inactive', \n",
    "'VHR Permit- Withdrawn' : 'Inactive', \n",
    "'VHR Permit- Complete' : 'Active', \n",
    "'VHR Permit- Closed' : 'Inactive', \n",
    "'VHR Permit- Revoked' : 'Inactive', \n",
    "'VHR Permit- Suspended' : 'Suspended', \n",
    "'current' : 'Active', \n",
    "'Current' : 'Active', \n",
    "'Suspended' : 'Suspended', \n",
    "'Active' : 'Active', \n",
    "'About to Expire' : 'Active',\n",
    "'active':'Active',\n",
    "'denied': 'Inactive',\n",
    "'expired': 'Inactive'\n",
    "}\n",
    "VHR_Data['Status'] = VHR_Data['Status'].str.strip()\n",
    "VHR_Data['Status'] = VHR_Data['Status'].replace(status_lookup)\n",
    "VHR_Data['Status'] = VHR_Data['Status'].fillna('Active')\n"
   ]
  },
  {
   "cell_type": "code",
   "execution_count": 18,
   "metadata": {},
   "outputs": [],
   "source": [
    "service_url = 'https://maps.trpa.org/server/rest/services/Parcels/FeatureServer/0'\n",
    "\n",
    "feature_layer = FeatureLayer(service_url)\n",
    "query_result = feature_layer.query()\n",
    "# Convert the query result to a list of dictionaries\n",
    "sdfParcels = query_result.sdf\n"
   ]
  },
  {
   "cell_type": "code",
   "execution_count": 25,
   "metadata": {},
   "outputs": [],
   "source": [
    "merged_df = pd.merge(sdfParcels, VHR_Data,  left_on=['APN', 'JURISDICTION'], right_on=['APN', 'jurisdiction'], how='inner' )"
   ]
  },
  {
   "cell_type": "code",
   "execution_count": 26,
   "metadata": {},
   "outputs": [],
   "source": [
    "\n",
    "drop_columns = ['OBJECTID', 'APO_ADDRESS', 'PSTL_STATE', 'PSTL_ZIP5', 'MAIL_ADD1', 'MAIL_ADD2', 'MAIL_CITY', 'MAIL_STATE', 'MAIL_ZIP5', 'JURISDICTION', 'DESIGN_GUIDELINES_HYPERLINK', 'GlobalID']\n",
    "merged_df.drop(columns=drop_columns, inplace=True)"
   ]
  },
  {
   "cell_type": "code",
   "execution_count": 27,
   "metadata": {},
   "outputs": [
    {
     "data": {
      "text/plain": [
       "'F:\\\\GIS\\\\PROJECTS\\\\ResearchAnalysis\\\\VHR\\\\Data\\\\VHR_Staging.gdb\\\\Parcel_VHR'"
      ]
     },
     "execution_count": 27,
     "metadata": {},
     "output_type": "execute_result"
    }
   ],
   "source": [
    "## Export spatial dataframes to feature class to use in Spatial join\n",
    "merged_df.spatial.to_featureclass(os.path.join(workspace, \"Parcel_VHR\"), sanitize_columns=False)"
   ]
  },
  {
   "cell_type": "code",
   "execution_count": 43,
   "metadata": {},
   "outputs": [],
   "source": [
    "merged_df.to_excel('merged.xlsx')\n",
    "CSLT_VHR.to_excel('cslt.xlsx')\n",
    "sdfParcels.to_excel('parcels.xlsx')"
   ]
  }
 ],
 "metadata": {
  "kernelspec": {
   "display_name": "Python 3",
   "language": "python",
   "name": "python3"
  },
  "language_info": {
   "codemirror_mode": {
    "name": "ipython",
    "version": 3
   },
   "file_extension": ".py",
   "mimetype": "text/x-python",
   "name": "python",
   "nbconvert_exporter": "python",
   "pygments_lexer": "ipython3",
   "version": "3.9.16"
  }
 },
 "nbformat": 4,
 "nbformat_minor": 2
}
