{
 "cells": [
  {
   "cell_type": "code",
   "execution_count": 11,
   "metadata": {},
   "outputs": [
    {
     "name": "stdout",
     "output_type": "stream",
     "text": [
      "Beta = 0.8471794871794645\n"
     ]
    },
    {
     "name": "stderr",
     "output_type": "stream",
     "text": [
      "C:\\Users\\snewsome\\AppData\\Local\\Temp\\ipykernel_24216\\4108361061.py:31: SettingWithCopyWarning:\n",
      "\n",
      "\n",
      "A value is trying to be set on a copy of a slice from a DataFrame.\n",
      "Try using .loc[row_indexer,col_indexer] = value instead\n",
      "\n",
      "See the caveats in the documentation: https://pandas.pydata.org/pandas-docs/stable/user_guide/indexing.html#returning-a-view-versus-a-copy\n",
      "\n",
      "C:\\Users\\snewsome\\AppData\\Local\\Temp\\ipykernel_24216\\4108361061.py:61: SettingWithCopyWarning:\n",
      "\n",
      "\n",
      "A value is trying to be set on a copy of a slice from a DataFrame.\n",
      "Try using .loc[row_indexer,col_indexer] = value instead\n",
      "\n",
      "See the caveats in the documentation: https://pandas.pydata.org/pandas-docs/stable/user_guide/indexing.html#returning-a-view-versus-a-copy\n",
      "\n"
     ]
    },
    {
     "data": {
      "application/vnd.plotly.v1+json": {
       "config": {
        "plotlyServerURL": "https://plot.ly"
       },
       "data": [
        {
         "customdata": [
          "Bald Eagle - winter",
          "Bald Eagle - winter",
          "Bald Eagle - winter",
          "Bald Eagle - winter",
          "Bald Eagle - winter",
          "Bald Eagle - winter",
          "Bald Eagle - winter",
          "Bald Eagle - winter",
          "Bald Eagle - winter",
          "Bald Eagle - winter",
          "Bald Eagle - winter",
          "Bald Eagle - winter",
          "Bald Eagle - winter",
          "Bald Eagle - winter",
          "Bald Eagle - winter",
          "Bald Eagle - winter",
          "Bald Eagle - winter",
          "Bald Eagle - winter",
          "Bald Eagle - winter",
          "Bald Eagle - winter",
          "Bald Eagle - winter",
          "Bald Eagle - winter",
          "Bald Eagle - winter",
          "Bald Eagle - winter",
          "Bald Eagle - winter",
          "Bald Eagle - winter"
         ],
         "hovertemplate": "<b>%{y:.0f}</b> Bald Eagles Observed<extra></extra>",
         "legendgroup": "Bald Eagle - winter",
         "marker": {
          "color": "#337ab7",
          "symbol": "circle"
         },
         "mode": "markers",
         "name": "Winter Bald Eagle Count",
         "orientation": "v",
         "showlegend": true,
         "type": "scatter",
         "x": [
          1998,
          1999,
          2000,
          2001,
          2002,
          2003,
          2004,
          2005,
          2006,
          2007,
          2008,
          2009,
          2010,
          2011,
          2012,
          2013,
          2014,
          2015,
          2016,
          2017,
          2018,
          2019,
          2020,
          2021,
          2022,
          2023
         ],
         "xaxis": "x",
         "y": [
          7,
          12,
          8,
          15,
          14,
          10,
          12,
          18,
          7,
          6,
          11,
          16,
          9,
          17,
          11,
          15,
          21,
          25,
          24,
          27,
          22,
          19,
          24,
          42,
          31,
          21
         ],
         "yaxis": "y"
        },
        {
         "customdata": [
          0.8471794871794645,
          0.8471794871794645,
          0.8471794871794645,
          0.8471794871794645,
          0.8471794871794645,
          0.8471794871794645,
          0.8471794871794645,
          0.8471794871794645,
          0.8471794871794645,
          0.8471794871794645,
          0.8471794871794645,
          0.8471794871794645,
          0.8471794871794645,
          0.8471794871794645,
          0.8471794871794645,
          0.8471794871794645,
          0.8471794871794645,
          0.8471794871794645,
          0.8471794871794645,
          0.8471794871794645,
          0.8471794871794645,
          0.8471794871794645,
          0.8471794871794645,
          0.8471794871794645,
          0.8471794871794645,
          0.8471794871794645
         ],
         "hovertemplate": "Trend: %{customdata:.2f}<extra></extra>",
         "legendgroup": "",
         "line": {
          "color": "#8a7121",
          "width": 3
         },
         "marker": {
          "color": "#636efa",
          "symbol": "circle"
         },
         "mode": "lines",
         "name": "Trend",
         "showlegend": true,
         "type": "scatter",
         "x": [
          1998,
          1999,
          2000,
          2001,
          2002,
          2003,
          2004,
          2005,
          2006,
          2007,
          2008,
          2009,
          2010,
          2011,
          2012,
          2013,
          2014,
          2015,
          2016,
          2017,
          2018,
          2019,
          2020,
          2021,
          2022,
          2023
         ],
         "xaxis": "x",
         "y": [
          6.487179487180583,
          7.334358974360157,
          8.181538461539503,
          9.028717948719077,
          9.875897435898423,
          10.723076923077997,
          11.570256410257343,
          12.417435897436917,
          13.264615384616263,
          14.111794871795837,
          14.958974358975183,
          15.806153846154757,
          16.653333333334103,
          17.500512820513677,
          18.347692307693023,
          19.194871794872597,
          20.042051282051943,
          20.889230769231517,
          21.736410256410863,
          22.583589743590437,
          23.430769230769783,
          24.277948717949357,
          25.125128205128703,
          25.972307692308277,
          26.819487179487624,
          27.666666666667197
         ],
         "yaxis": "y"
        }
       ],
       "layout": {
        "dragmode": false,
        "font": {
         "family": "Calibri"
        },
        "hovermode": "x unified",
        "legend": {
         "title": {
          "text": ""
         },
         "tracegroupgap": 0
        },
        "margin": {
         "t": 60
        },
        "showlegend": true,
        "template": {
         "data": {
          "bar": [
           {
            "error_x": {
             "color": "#2a3f5f"
            },
            "error_y": {
             "color": "#2a3f5f"
            },
            "marker": {
             "line": {
              "color": "white",
              "width": 0.5
             },
             "pattern": {
              "fillmode": "overlay",
              "size": 10,
              "solidity": 0.2
             }
            },
            "type": "bar"
           }
          ],
          "barpolar": [
           {
            "marker": {
             "line": {
              "color": "white",
              "width": 0.5
             },
             "pattern": {
              "fillmode": "overlay",
              "size": 10,
              "solidity": 0.2
             }
            },
            "type": "barpolar"
           }
          ],
          "carpet": [
           {
            "aaxis": {
             "endlinecolor": "#2a3f5f",
             "gridcolor": "#C8D4E3",
             "linecolor": "#C8D4E3",
             "minorgridcolor": "#C8D4E3",
             "startlinecolor": "#2a3f5f"
            },
            "baxis": {
             "endlinecolor": "#2a3f5f",
             "gridcolor": "#C8D4E3",
             "linecolor": "#C8D4E3",
             "minorgridcolor": "#C8D4E3",
             "startlinecolor": "#2a3f5f"
            },
            "type": "carpet"
           }
          ],
          "choropleth": [
           {
            "colorbar": {
             "outlinewidth": 0,
             "ticks": ""
            },
            "type": "choropleth"
           }
          ],
          "contour": [
           {
            "colorbar": {
             "outlinewidth": 0,
             "ticks": ""
            },
            "colorscale": [
             [
              0,
              "#0d0887"
             ],
             [
              0.1111111111111111,
              "#46039f"
             ],
             [
              0.2222222222222222,
              "#7201a8"
             ],
             [
              0.3333333333333333,
              "#9c179e"
             ],
             [
              0.4444444444444444,
              "#bd3786"
             ],
             [
              0.5555555555555556,
              "#d8576b"
             ],
             [
              0.6666666666666666,
              "#ed7953"
             ],
             [
              0.7777777777777778,
              "#fb9f3a"
             ],
             [
              0.8888888888888888,
              "#fdca26"
             ],
             [
              1,
              "#f0f921"
             ]
            ],
            "type": "contour"
           }
          ],
          "contourcarpet": [
           {
            "colorbar": {
             "outlinewidth": 0,
             "ticks": ""
            },
            "type": "contourcarpet"
           }
          ],
          "heatmap": [
           {
            "colorbar": {
             "outlinewidth": 0,
             "ticks": ""
            },
            "colorscale": [
             [
              0,
              "#0d0887"
             ],
             [
              0.1111111111111111,
              "#46039f"
             ],
             [
              0.2222222222222222,
              "#7201a8"
             ],
             [
              0.3333333333333333,
              "#9c179e"
             ],
             [
              0.4444444444444444,
              "#bd3786"
             ],
             [
              0.5555555555555556,
              "#d8576b"
             ],
             [
              0.6666666666666666,
              "#ed7953"
             ],
             [
              0.7777777777777778,
              "#fb9f3a"
             ],
             [
              0.8888888888888888,
              "#fdca26"
             ],
             [
              1,
              "#f0f921"
             ]
            ],
            "type": "heatmap"
           }
          ],
          "heatmapgl": [
           {
            "colorbar": {
             "outlinewidth": 0,
             "ticks": ""
            },
            "colorscale": [
             [
              0,
              "#0d0887"
             ],
             [
              0.1111111111111111,
              "#46039f"
             ],
             [
              0.2222222222222222,
              "#7201a8"
             ],
             [
              0.3333333333333333,
              "#9c179e"
             ],
             [
              0.4444444444444444,
              "#bd3786"
             ],
             [
              0.5555555555555556,
              "#d8576b"
             ],
             [
              0.6666666666666666,
              "#ed7953"
             ],
             [
              0.7777777777777778,
              "#fb9f3a"
             ],
             [
              0.8888888888888888,
              "#fdca26"
             ],
             [
              1,
              "#f0f921"
             ]
            ],
            "type": "heatmapgl"
           }
          ],
          "histogram": [
           {
            "marker": {
             "pattern": {
              "fillmode": "overlay",
              "size": 10,
              "solidity": 0.2
             }
            },
            "type": "histogram"
           }
          ],
          "histogram2d": [
           {
            "colorbar": {
             "outlinewidth": 0,
             "ticks": ""
            },
            "colorscale": [
             [
              0,
              "#0d0887"
             ],
             [
              0.1111111111111111,
              "#46039f"
             ],
             [
              0.2222222222222222,
              "#7201a8"
             ],
             [
              0.3333333333333333,
              "#9c179e"
             ],
             [
              0.4444444444444444,
              "#bd3786"
             ],
             [
              0.5555555555555556,
              "#d8576b"
             ],
             [
              0.6666666666666666,
              "#ed7953"
             ],
             [
              0.7777777777777778,
              "#fb9f3a"
             ],
             [
              0.8888888888888888,
              "#fdca26"
             ],
             [
              1,
              "#f0f921"
             ]
            ],
            "type": "histogram2d"
           }
          ],
          "histogram2dcontour": [
           {
            "colorbar": {
             "outlinewidth": 0,
             "ticks": ""
            },
            "colorscale": [
             [
              0,
              "#0d0887"
             ],
             [
              0.1111111111111111,
              "#46039f"
             ],
             [
              0.2222222222222222,
              "#7201a8"
             ],
             [
              0.3333333333333333,
              "#9c179e"
             ],
             [
              0.4444444444444444,
              "#bd3786"
             ],
             [
              0.5555555555555556,
              "#d8576b"
             ],
             [
              0.6666666666666666,
              "#ed7953"
             ],
             [
              0.7777777777777778,
              "#fb9f3a"
             ],
             [
              0.8888888888888888,
              "#fdca26"
             ],
             [
              1,
              "#f0f921"
             ]
            ],
            "type": "histogram2dcontour"
           }
          ],
          "mesh3d": [
           {
            "colorbar": {
             "outlinewidth": 0,
             "ticks": ""
            },
            "type": "mesh3d"
           }
          ],
          "parcoords": [
           {
            "line": {
             "colorbar": {
              "outlinewidth": 0,
              "ticks": ""
             }
            },
            "type": "parcoords"
           }
          ],
          "pie": [
           {
            "automargin": true,
            "type": "pie"
           }
          ],
          "scatter": [
           {
            "fillpattern": {
             "fillmode": "overlay",
             "size": 10,
             "solidity": 0.2
            },
            "type": "scatter"
           }
          ],
          "scatter3d": [
           {
            "line": {
             "colorbar": {
              "outlinewidth": 0,
              "ticks": ""
             }
            },
            "marker": {
             "colorbar": {
              "outlinewidth": 0,
              "ticks": ""
             }
            },
            "type": "scatter3d"
           }
          ],
          "scattercarpet": [
           {
            "marker": {
             "colorbar": {
              "outlinewidth": 0,
              "ticks": ""
             }
            },
            "type": "scattercarpet"
           }
          ],
          "scattergeo": [
           {
            "marker": {
             "colorbar": {
              "outlinewidth": 0,
              "ticks": ""
             }
            },
            "type": "scattergeo"
           }
          ],
          "scattergl": [
           {
            "marker": {
             "colorbar": {
              "outlinewidth": 0,
              "ticks": ""
             }
            },
            "type": "scattergl"
           }
          ],
          "scattermapbox": [
           {
            "marker": {
             "colorbar": {
              "outlinewidth": 0,
              "ticks": ""
             }
            },
            "type": "scattermapbox"
           }
          ],
          "scatterpolar": [
           {
            "marker": {
             "colorbar": {
              "outlinewidth": 0,
              "ticks": ""
             }
            },
            "type": "scatterpolar"
           }
          ],
          "scatterpolargl": [
           {
            "marker": {
             "colorbar": {
              "outlinewidth": 0,
              "ticks": ""
             }
            },
            "type": "scatterpolargl"
           }
          ],
          "scatterternary": [
           {
            "marker": {
             "colorbar": {
              "outlinewidth": 0,
              "ticks": ""
             }
            },
            "type": "scatterternary"
           }
          ],
          "surface": [
           {
            "colorbar": {
             "outlinewidth": 0,
             "ticks": ""
            },
            "colorscale": [
             [
              0,
              "#0d0887"
             ],
             [
              0.1111111111111111,
              "#46039f"
             ],
             [
              0.2222222222222222,
              "#7201a8"
             ],
             [
              0.3333333333333333,
              "#9c179e"
             ],
             [
              0.4444444444444444,
              "#bd3786"
             ],
             [
              0.5555555555555556,
              "#d8576b"
             ],
             [
              0.6666666666666666,
              "#ed7953"
             ],
             [
              0.7777777777777778,
              "#fb9f3a"
             ],
             [
              0.8888888888888888,
              "#fdca26"
             ],
             [
              1,
              "#f0f921"
             ]
            ],
            "type": "surface"
           }
          ],
          "table": [
           {
            "cells": {
             "fill": {
              "color": "#EBF0F8"
             },
             "line": {
              "color": "white"
             }
            },
            "header": {
             "fill": {
              "color": "#C8D4E3"
             },
             "line": {
              "color": "white"
             }
            },
            "type": "table"
           }
          ]
         },
         "layout": {
          "annotationdefaults": {
           "arrowcolor": "#2a3f5f",
           "arrowhead": 0,
           "arrowwidth": 1
          },
          "autotypenumbers": "strict",
          "coloraxis": {
           "colorbar": {
            "outlinewidth": 0,
            "ticks": ""
           }
          },
          "colorscale": {
           "diverging": [
            [
             0,
             "#8e0152"
            ],
            [
             0.1,
             "#c51b7d"
            ],
            [
             0.2,
             "#de77ae"
            ],
            [
             0.3,
             "#f1b6da"
            ],
            [
             0.4,
             "#fde0ef"
            ],
            [
             0.5,
             "#f7f7f7"
            ],
            [
             0.6,
             "#e6f5d0"
            ],
            [
             0.7,
             "#b8e186"
            ],
            [
             0.8,
             "#7fbc41"
            ],
            [
             0.9,
             "#4d9221"
            ],
            [
             1,
             "#276419"
            ]
           ],
           "sequential": [
            [
             0,
             "#0d0887"
            ],
            [
             0.1111111111111111,
             "#46039f"
            ],
            [
             0.2222222222222222,
             "#7201a8"
            ],
            [
             0.3333333333333333,
             "#9c179e"
            ],
            [
             0.4444444444444444,
             "#bd3786"
            ],
            [
             0.5555555555555556,
             "#d8576b"
            ],
            [
             0.6666666666666666,
             "#ed7953"
            ],
            [
             0.7777777777777778,
             "#fb9f3a"
            ],
            [
             0.8888888888888888,
             "#fdca26"
            ],
            [
             1,
             "#f0f921"
            ]
           ],
           "sequentialminus": [
            [
             0,
             "#0d0887"
            ],
            [
             0.1111111111111111,
             "#46039f"
            ],
            [
             0.2222222222222222,
             "#7201a8"
            ],
            [
             0.3333333333333333,
             "#9c179e"
            ],
            [
             0.4444444444444444,
             "#bd3786"
            ],
            [
             0.5555555555555556,
             "#d8576b"
            ],
            [
             0.6666666666666666,
             "#ed7953"
            ],
            [
             0.7777777777777778,
             "#fb9f3a"
            ],
            [
             0.8888888888888888,
             "#fdca26"
            ],
            [
             1,
             "#f0f921"
            ]
           ]
          },
          "colorway": [
           "#636efa",
           "#EF553B",
           "#00cc96",
           "#ab63fa",
           "#FFA15A",
           "#19d3f3",
           "#FF6692",
           "#B6E880",
           "#FF97FF",
           "#FECB52"
          ],
          "font": {
           "color": "#2a3f5f"
          },
          "geo": {
           "bgcolor": "white",
           "lakecolor": "white",
           "landcolor": "white",
           "showlakes": true,
           "showland": true,
           "subunitcolor": "#C8D4E3"
          },
          "hoverlabel": {
           "align": "left"
          },
          "hovermode": "closest",
          "mapbox": {
           "style": "light"
          },
          "paper_bgcolor": "white",
          "plot_bgcolor": "white",
          "polar": {
           "angularaxis": {
            "gridcolor": "#EBF0F8",
            "linecolor": "#EBF0F8",
            "ticks": ""
           },
           "bgcolor": "white",
           "radialaxis": {
            "gridcolor": "#EBF0F8",
            "linecolor": "#EBF0F8",
            "ticks": ""
           }
          },
          "scene": {
           "xaxis": {
            "backgroundcolor": "white",
            "gridcolor": "#DFE8F3",
            "gridwidth": 2,
            "linecolor": "#EBF0F8",
            "showbackground": true,
            "ticks": "",
            "zerolinecolor": "#EBF0F8"
           },
           "yaxis": {
            "backgroundcolor": "white",
            "gridcolor": "#DFE8F3",
            "gridwidth": 2,
            "linecolor": "#EBF0F8",
            "showbackground": true,
            "ticks": "",
            "zerolinecolor": "#EBF0F8"
           },
           "zaxis": {
            "backgroundcolor": "white",
            "gridcolor": "#DFE8F3",
            "gridwidth": 2,
            "linecolor": "#EBF0F8",
            "showbackground": true,
            "ticks": "",
            "zerolinecolor": "#EBF0F8"
           }
          },
          "shapedefaults": {
           "line": {
            "color": "#2a3f5f"
           }
          },
          "ternary": {
           "aaxis": {
            "gridcolor": "#DFE8F3",
            "linecolor": "#A2B1C6",
            "ticks": ""
           },
           "baxis": {
            "gridcolor": "#DFE8F3",
            "linecolor": "#A2B1C6",
            "ticks": ""
           },
           "bgcolor": "white",
           "caxis": {
            "gridcolor": "#DFE8F3",
            "linecolor": "#A2B1C6",
            "ticks": ""
           }
          },
          "title": {
           "x": 0.05
          },
          "xaxis": {
           "automargin": true,
           "gridcolor": "#EBF0F8",
           "linecolor": "#EBF0F8",
           "ticks": "",
           "title": {
            "standoff": 15
           },
           "zerolinecolor": "#EBF0F8",
           "zerolinewidth": 2
          },
          "yaxis": {
           "automargin": true,
           "gridcolor": "#EBF0F8",
           "linecolor": "#EBF0F8",
           "ticks": "",
           "title": {
            "standoff": 15
           },
           "zerolinecolor": "#EBF0F8",
           "zerolinewidth": 2
          }
         }
        },
        "title": {
         "text": "Wintering Bald Eagle"
        },
        "xaxis": {
         "anchor": "y",
         "domain": [
          0,
          1
         ],
         "dtick": 1,
         "tickmode": "linear",
         "title": {
          "text": "Year"
         }
        },
        "yaxis": {
         "anchor": "x",
         "domain": [
          0,
          1
         ],
         "dtick": 5,
         "range": [
          0,
          45
         ],
         "tick0": 0,
         "tickmode": "linear",
         "title": {
          "text": "Number of Eagles"
         }
        }
       }
      }
     },
     "metadata": {},
     "output_type": "display_data"
    },
    {
     "ename": "TypeError",
     "evalue": "write_html() missing 1 required positional argument: 'file'",
     "output_type": "error",
     "traceback": [
      "\u001b[1;31m---------------------------------------------------------------------------\u001b[0m",
      "\u001b[1;31mTypeError\u001b[0m                                 Traceback (most recent call last)",
      "Cell \u001b[1;32mIn[11], line 121\u001b[0m\n\u001b[0;32m    110\u001b[0m         fig\u001b[38;5;241m.\u001b[39mwrite_html(\n\u001b[0;32m    111\u001b[0m             config\u001b[38;5;241m=\u001b[39mconfig,\n\u001b[0;32m    112\u001b[0m             file\u001b[38;5;241m=\u001b[39m out_chart \u001b[38;5;241m/\u001b[39m \u001b[38;5;124m\"\u001b[39m\u001b[38;5;124mFinal/Wildlife_BaldEagle_WinterLTinfo.html\u001b[39m\u001b[38;5;124m\"\u001b[39m,\n\u001b[1;32m   (...)\u001b[0m\n\u001b[0;32m    117\u001b[0m             \u001b[38;5;66;03m# default_width=800,\u001b[39;00m\n\u001b[0;32m    118\u001b[0m         )\n\u001b[0;32m    120\u001b[0m df \u001b[38;5;241m=\u001b[39m get_wildlife_data_web()\n\u001b[1;32m--> 121\u001b[0m plot_bald_eagle_winter(df, draft\u001b[38;5;241m=\u001b[39m\u001b[38;5;28;01mTrue\u001b[39;00m)\n\u001b[0;32m    122\u001b[0m \u001b[38;5;28mprint\u001b[39m(\u001b[38;5;124m\"\u001b[39m\u001b[38;5;124mBald Eagle Winter chart complete\u001b[39m\u001b[38;5;124m\"\u001b[39m)\n",
      "Cell \u001b[1;32mIn[11], line 95\u001b[0m, in \u001b[0;36mplot_bald_eagle_winter\u001b[1;34m(df, draft)\u001b[0m\n\u001b[0;32m     75\u001b[0m fig\u001b[38;5;241m.\u001b[39mupdate_layout(title\u001b[38;5;241m=\u001b[39m\u001b[38;5;124m'\u001b[39m\u001b[38;5;124mWintering Bald Eagle\u001b[39m\u001b[38;5;124m'\u001b[39m,\n\u001b[0;32m     76\u001b[0m                     legend_title_text\u001b[38;5;241m=\u001b[39m\u001b[38;5;124m'\u001b[39m\u001b[38;5;124m'\u001b[39m,\n\u001b[0;32m     77\u001b[0m                     font_family\u001b[38;5;241m=\u001b[39mfont,\n\u001b[1;32m   (...)\u001b[0m\n\u001b[0;32m     92\u001b[0m                     )       \n\u001b[0;32m     93\u001b[0m                 )   \n\u001b[0;32m     94\u001b[0m fig\u001b[38;5;241m.\u001b[39mshow()\n\u001b[1;32m---> 95\u001b[0m fig\u001b[38;5;241m.\u001b[39mwrite_html()\n\u001b[0;32m     96\u001b[0m \u001b[38;5;66;03m# export chart\u001b[39;00m\n\u001b[0;32m     97\u001b[0m config \u001b[38;5;241m=\u001b[39m {\u001b[38;5;124m\"\u001b[39m\u001b[38;5;124mdisplayModeBar\u001b[39m\u001b[38;5;124m\"\u001b[39m: \u001b[38;5;28;01mFalse\u001b[39;00m}\n",
      "File \u001b[1;32m~\\AppData\\Roaming\\Python\\Python311\\site-packages\\plotly\\basedatatypes.py:3700\u001b[0m, in \u001b[0;36mBaseFigure.write_html\u001b[1;34m(self, *args, **kwargs)\u001b[0m\n\u001b[0;32m   3585\u001b[0m \u001b[38;5;250m\u001b[39m\u001b[38;5;124;03m\"\"\"\u001b[39;00m\n\u001b[0;32m   3586\u001b[0m \u001b[38;5;124;03mWrite a figure to an HTML file representation\u001b[39;00m\n\u001b[0;32m   3587\u001b[0m \n\u001b[1;32m   (...)\u001b[0m\n\u001b[0;32m   3696\u001b[0m \u001b[38;5;124;03m    Representation of figure as an HTML div string\u001b[39;00m\n\u001b[0;32m   3697\u001b[0m \u001b[38;5;124;03m\"\"\"\u001b[39;00m\n\u001b[0;32m   3698\u001b[0m \u001b[38;5;28;01mimport\u001b[39;00m \u001b[38;5;21;01mplotly\u001b[39;00m\u001b[38;5;21;01m.\u001b[39;00m\u001b[38;5;21;01mio\u001b[39;00m \u001b[38;5;28;01mas\u001b[39;00m \u001b[38;5;21;01mpio\u001b[39;00m\n\u001b[1;32m-> 3700\u001b[0m \u001b[38;5;28;01mreturn\u001b[39;00m pio\u001b[38;5;241m.\u001b[39mwrite_html(\u001b[38;5;28mself\u001b[39m, \u001b[38;5;241m*\u001b[39margs, \u001b[38;5;241m*\u001b[39m\u001b[38;5;241m*\u001b[39mkwargs)\n",
      "\u001b[1;31mTypeError\u001b[0m: write_html() missing 1 required positional argument: 'file'"
     ]
    }
   ],
   "source": [
    "\n",
    "import pandas as pd\n",
    "import plotly.express as px\n",
    "import plotly.graph_objects as go\n",
    "from arcgis.features import FeatureLayer\n",
    "from pathlib import Path\n",
    "config = {\"displayModeBar\": False}\n",
    "out_chart = Path(r\"C:/Users/snewsome/Documents/GitHub/Monitoring/LTinfoUpdates\")\n",
    "template = 'plotly_white'\n",
    "font     = 'Calibri'\n",
    "\n",
    "# Set up file paths\n",
    "# Gets data from the TRPA server\n",
    "def get_fs_data(service_url):\n",
    "    feature_layer = FeatureLayer(service_url)\n",
    "    query_result = feature_layer.query()\n",
    "    # Convert the query result to a list of dictionaries\n",
    "    feature_list = query_result.features\n",
    "    # Create a pandas DataFrame from the list of dictionaries\n",
    "    all_data = pd.DataFrame([feature.attributes for feature in feature_list])\n",
    "    # return data frame\n",
    "    return all_data\n",
    "\n",
    "def get_wildlife_data_web():\n",
    "    wildlife_url = \"https://maps.trpa.org/server/rest/services/LTInfo_Monitoring/MapServer/96\"\n",
    "    return get_fs_data(wildlife_url)\n",
    "\n",
    "# plot bald eagle data\n",
    "def plot_bald_eagle_winter(df, draft=False):\n",
    "    # filter df for bald eagle\n",
    "    df = df.loc[df['Wildlife_Species'] == 'Bald Eagle - winter']\n",
    "    # add threshold value\n",
    "    df['Threshold Value'] = 2\n",
    "\n",
    "    # setup plot\n",
    "    fig = px.scatter(df, x = 'Year', y= 'Total', color='Wildlife_Species')\n",
    "\n",
    "    # update popup\n",
    "    fig.update_traces(customdata=df['Wildlife_Species'],\n",
    "                    hovertemplate='<b>%{y:.0f}</b> Bald Eagles Observed<extra></extra>',\n",
    "                    name='Winter Bald Eagle Count',\n",
    "                    marker=dict(color='#337ab7'))\n",
    "    # # # create threshold line\n",
    "    # fig.add_trace(go.Scatter(\n",
    "    #     y=df['Threshold Value'],\n",
    "    #     x=df['Year'],\n",
    "    #     name= \"Threshold\",\n",
    "    #     line=dict(color='#333333', width=2, dash='dash'),\n",
    "    #     mode='lines',\n",
    "    #     hovertemplate='Threshold: %{y:.0f}<extra></extra>'\n",
    "    # ))\n",
    "    # create trendline\n",
    "    fig2 = px.scatter(df, x = 'Year', y= 'Total', \n",
    "                    trendline='ols', trendline_color_override='#8a7121')\n",
    "    # set up trendline trace\n",
    "    trendline = fig2.data[1]\n",
    "    # get ols results\n",
    "    fit_results = px.get_trendline_results(fig2).px_fit_results.iloc[0]\n",
    "    # get beta value\n",
    "    beta = fit_results.params[1]\n",
    "    print(\"Beta = \" + str(fit_results.params[1]))\n",
    "    # add beta value from trend line to data frame\n",
    "    df['Beta'] = fit_results.params[1]\n",
    "\n",
    "    # create variable of beta\n",
    "    slope = df['Beta']\n",
    "\n",
    "    # update trendline legend and popup\n",
    "    trendline.update(showlegend=True, name=\"Trend\", line_width=3,\n",
    "                    customdata=slope, \n",
    "                    hovertemplate='Trend: %{customdata:.2f}<extra></extra>')\n",
    "\n",
    "    # add to figure\n",
    "    fig.add_trace(trendline)\n",
    "\n",
    "    # set layout\n",
    "    fig.update_layout(title='Wintering Bald Eagle',\n",
    "                        legend_title_text='',\n",
    "                        font_family=font,\n",
    "                        template=template,\n",
    "                        hovermode=\"x unified\",\n",
    "                        showlegend=True,\n",
    "                        dragmode=False,\n",
    "                        xaxis = dict(\n",
    "                            tickmode = 'linear',\n",
    "                            dtick = 1\n",
    "                        ),\n",
    "                        yaxis = dict(\n",
    "                            tickmode = 'linear',\n",
    "                            tick0 = 0,\n",
    "                            dtick = 5,\n",
    "                            range=[0, 45],\n",
    "                            title_text='Number of Eagles'\n",
    "                        )       \n",
    "                    )   \n",
    "    fig.show()\n",
    "   \n",
    "    # export chart\n",
    "   \n",
    "    if draft == True:\n",
    "        fig.write_html(\n",
    "            config=config,\n",
    "            file= out_chart / \"Draft/Wildlife_BaldEagle_WinterLTinfo.html\",\n",
    "            include_plotlyjs=\"directory\",\n",
    "            div_id=\"Winter Bald Eagle\",\n",
    "            full_html=False,\n",
    "            # default_height=500,\n",
    "            # default_width=800,\n",
    "        )   \n",
    "    elif draft == False: \n",
    "        fig.write_html(\n",
    "            config=config,\n",
    "            file= out_chart / \"Final/Wildlife_BaldEagle_WinterLTinfo.html\",\n",
    "            # include_plotlyjs=\"directory\",\n",
    "            div_id=\"Winter Bald_Eagle\",\n",
    "            full_html=False,\n",
    "            # default_height=500,\n",
    "            # default_width=800,\n",
    "        )\n",
    "\n",
    "df = get_wildlife_data_web()\n",
    "plot_bald_eagle_winter(df, draft=True)\n",
    "print(\"Bald Eagle Winter chart complete\")\n",
    "\n"
   ]
  }
 ],
 "metadata": {
  "kernelspec": {
   "display_name": "Python 3",
   "language": "python",
   "name": "python3"
  },
  "language_info": {
   "codemirror_mode": {
    "name": "ipython",
    "version": 3
   },
   "file_extension": ".py",
   "mimetype": "text/x-python",
   "name": "python",
   "nbconvert_exporter": "python",
   "pygments_lexer": "ipython3",
   "version": "3.11.10"
  }
 },
 "nbformat": 4,
 "nbformat_minor": 2
}
