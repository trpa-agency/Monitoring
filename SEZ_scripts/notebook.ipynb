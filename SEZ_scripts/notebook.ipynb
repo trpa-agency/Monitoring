{
 "cells": [
  {
   "cell_type": "code",
   "execution_count": 3,
   "metadata": {},
   "outputs": [],
   "source": [
    "\n",
    "%load_ext autoreload\n",
    "%autoreload 2"
   ]
  },
  {
   "cell_type": "code",
   "execution_count": 26,
   "metadata": {},
   "outputs": [],
   "source": [
    "#Get modules\n",
    "\n",
    "from Headcuts import *\n",
    "#localpath = pathlib.Path.cwd()"
   ]
  },
  {
   "cell_type": "code",
   "execution_count": 27,
   "metadata": {},
   "outputs": [],
   "source": [
    "#HEADCUT#\n",
    "#Import SEZ_Survey data from collect Do I need this?\n",
    "#dfSEZ= get_sezsurvey_data()\n",
    "\n",
    "#Get raw headcut data prior 2023 and earlier that is stored in gdbs in F:GIS/data/Monitoring/\n",
    "#df= get_allheadcut_data()\n",
    "\n",
    "#Get headcut data from sde collect\n",
    "#df= get_newheadcut_data_collect()\n",
    "\n",
    "df = get_combined_survey_and_headcut_data()\n",
    "\n",
    "#clean, process, grade data\n",
    "process_grade_headcut(df, 2024)\n",
    "\n",
    "#post data to sde.VECTOR.stage headcut table or csv\n",
    "post_headcut(df, draft=True)\n"
   ]
  }
 ],
 "metadata": {
  "kernelspec": {
   "display_name": "Python 3",
   "language": "python",
   "name": "python3"
  },
  "language_info": {
   "codemirror_mode": {
    "name": "ipython",
    "version": 3
   },
   "file_extension": ".py",
   "mimetype": "text/x-python",
   "name": "python",
   "nbconvert_exporter": "python",
   "pygments_lexer": "ipython3",
   "version": "3.9.18"
  }
 },
 "nbformat": 4,
 "nbformat_minor": 2
}
