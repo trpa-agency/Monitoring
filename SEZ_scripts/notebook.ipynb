{
 "cells": [
  {
   "cell_type": "code",
   "execution_count": null,
   "metadata": {},
   "outputs": [],
   "source": [
    "\n",
    "%load_ext autoreload\n",
    "%autoreload 2"
   ]
  },
  {
   "cell_type": "code",
   "execution_count": null,
   "metadata": {},
   "outputs": [],
   "source": [
    "#Get modules\n",
    "#indicators\n",
    "from Incision import *\n",
    "from Headcuts import *\n",
    "from Erosion import *\n",
    "from Invasives import *\n",
    "from Bioassessment import *\n",
    "from Conifer import *\n",
    "from VegVigor import *\n",
    "from AOP import *\n",
    "from Habitat import *\n",
    "from Ditches import *\n"
   ]
  },
  {
   "cell_type": "markdown",
   "metadata": {},
   "source": [
    "# Process Indicators Post To Staging Tables"
   ]
  },
  {
   "cell_type": "code",
   "execution_count": null,
   "metadata": {},
   "outputs": [],
   "source": [
    "#CONIFER#\n",
    "from Conifer import *\n",
    "#!!!No Need to update if there is no new information\n",
    "#Current code grabs old data which is already in staging table\n",
    "df=get_conifersez_data_sql()\n",
    "readydf=process_conifer(df)\n",
    "post_conifer_data(df, draft=True)"
   ]
  },
  {
   "cell_type": "code",
   "execution_count": 7,
   "metadata": {},
   "outputs": [],
   "source": [
    "#AOP#\n",
    "#!!! No need to update if there is no new information\n",
    "#Current code grabs old data which is already in staging table\n",
    "from AOP import *\n",
    "#Get data from SEZ_Assessment Unit Table in sde (this indicator doesn't get updated much)\n",
    "df = get_aopsez_data_sql()\n",
    "#rename the sql data so that we can \n",
    "readydf = Process_aop(df)\n",
    "#post_AOP_data(readydf, draft=True)"
   ]
  },
  {
   "cell_type": "code",
   "execution_count": 8,
   "metadata": {},
   "outputs": [],
   "source": [
    "#BIOASSESSMENT#done\n",
    "from Bioassessment import *\n",
    "# from Bioassessment import *\n",
    "df = get_bioassessment_data()\n",
    "#clean, process, grade data\n",
    "readydf = process_grade_bioassessment(df, 2023)\n",
    "#post data to sde.VECTOR.stage headcut table or csv\n",
    "post_bioassessment(readydf, draft=True)\n"
   ]
  },
  {
   "cell_type": "code",
   "execution_count": null,
   "metadata": {},
   "outputs": [],
   "source": [
    "#INVASIVES# Update Every Year\n",
    "from Invasives import *\n",
    "#Get raw invasive data prior to 2024 that is stored in gdbs in F:GIS/data/Monitoring/\n",
    "#df= get_invasive_data_gdb()\n",
    "#Get USFS rest service data spatially joined to SEZ's\n",
    "usfsdf= get_USFSinvasive_data()\n",
    "#Get new invasive data from sde collect\n",
    "Idf = get_combined_survey_and_invasive_data()\n",
    "\n",
    "#clean, merge with external data/ format plant type names\n",
    "df, grouped_df = merge_format_invasive(Idf, usfsdf, 2024)\n",
    "#Process Data and grade/rate assessment\n",
    "#Be sure to update the priority list in \"F:\\GIS\\PROJECTS\\ResearchAnalysis\\SEZ\\Invasives Priority Lookup.csv\"\n",
    "readydf, invasive_summary, invasive_summary_priority = process_grade_invasive(df)\n",
    "#post data to sde.VECTOR.stage headcut table or csv\n",
    "#post_invasive(readydf, draft=True)\n"
   ]
  },
  {
   "cell_type": "code",
   "execution_count": null,
   "metadata": {},
   "outputs": [],
   "source": [
    "from Invasives2 import *\n",
    "#Get USFS rest service data spatially joined to SEZ's\n",
    "usfsdf= get_USFSinvasive_data()\n",
    "#Get new invasive data from sde collect\n",
    "Idf = get_combined_survey_and_invasive_data()\n",
    "#clean, merge with external data/ format plant type names\n",
    "df = merge_format_prioritize_invasive(Idf, usfsdf, 2024)\n",
    "#Process Data and grade/rate assessment\n",
    "#Be sure to update the priority list in \"F:\\GIS\\PROJECTS\\ResearchAnalysis\\SEZ\\Invasives Priority Lookup.csv\"\n",
    "readydf, invasive_summary, invasive_summary_priority = process_grade_invasives(df, priority_columns)\n",
    "#post data to sde.VECTOR.stage headcut table or csv\n",
    "#post_invasive(readydf, draft=True)"
   ]
  },
  {
   "cell_type": "code",
   "execution_count": null,
   "metadata": {},
   "outputs": [],
   "source": [
    "#HEADCUT##Update Every Year\n",
    "from Headcuts import *\n",
    "#Get raw headcut data prior 2024 and earlier that is stored in gdbs in F:GIS/data/Monitoring/\n",
    "#df= get_allheadcut_data()\n",
    "#Get new headcut data from sde collect\n",
    "df = get_combined_survey_and_headcut_data()\n",
    "#clean, process, grade data\n",
    "readydf = process_grade_headcut(df, 2024)\n",
    "#post data to sde.VECTOR.stage headcut table or csv\n",
    "post_headcut(readydf, draft=True)\n"
   ]
  },
  {
   "cell_type": "code",
   "execution_count": 50,
   "metadata": {},
   "outputs": [],
   "source": [
    "#INCISION# Update Every Year\n",
    "#Get raw incision data prior 2023 and earlier that is stored in gdbs in F:GIS/data/Monitoring/\n",
    "#df= get_allincision_data()\n",
    "#Get incision data from sde collect\n",
    "df = get_combined_survey_and_incision_data()\n",
    "#clean, process, grade data\n",
    "readydf = process_grade_incision(df, 2024)\n",
    "#post data to sde.VECTOR.stage incision table or csv\n",
    "post_incision(readydf, draft=True)"
   ]
  },
  {
   "cell_type": "code",
   "execution_count": null,
   "metadata": {},
   "outputs": [],
   "source": [
    "#EROSION# Update Every Year\n",
    "from Erosion import *\n",
    "\n",
    "#Get raw erosion data prior 2023 and earlier that is stored in gdbs in F:GIS/data/Monitoring/\n",
    "df= get_erosion_data()\n",
    "\n",
    "#clean, process, grade data\n",
    "readydf = process_grade_erosion(df, 2024)\n",
    "#post data to sde.VECTOR.stage incision table or csv\n",
    "post_erosion(readydf, draft=True)"
   ]
  },
  {
   "cell_type": "code",
   "execution_count": null,
   "metadata": {},
   "outputs": [],
   "source": [
    "#VEG VIGOR#\n",
    "#Use data from SEZTable until we get new lidar data\n",
    "df=get_sez_data_sql()\n",
    "#df= get_oldvegvig_data()\n",
    "post_Veg_data(df, draft=True)\n"
   ]
  },
  {
   "cell_type": "markdown",
   "metadata": {},
   "source": [
    "# Staging Tables to Final Table"
   ]
  },
  {
   "cell_type": "code",
   "execution_count": null,
   "metadata": {},
   "outputs": [],
   "source": [
    "from FormatStagingTables import *\n",
    "# Staging to final\n",
    "dfbanks = get_fs_data(bank_stability_url)\n",
    "dfbiotic = get_fs_data(biotic_integrity_url)\n",
    "dfconifer = get_fs_data(conifer_url)\n",
    "dfditch = get_fs_data(ditches_url)\n",
    "dfinvasive = get_fs_data(invasives_url)\n",
    "dfhabitat = get_fs_data(Hab_Frag_url)\n",
    "dfvegetation = get_fs_data(vegetation_url)\n",
    "dfincision = get_fs_data(incision_url)\n",
    "dfheadcuts = get_fs_data(headcuts_url)\n",
    "dfAOP = get_fs_data(AOP_url)\n",
    "dfSEZ = get_fs_data_spatial(SEZ_url)\n",
    "dfheadcuts.drop(columns=['small', 'medium', 'large'], inplace=True)\n",
    "#Format Staging Tables\n",
    "#format biotic data average if two streams in one assessment unit\n",
    "dfaveraged_biotic=average_biotic_scores(dfbiotic, 2024)\n",
    "#Prep SEZ Baseline Data for assessment unit...will need to rethink if acreage changes.. or just manually change in sde\n",
    "keep_columns = ['SHAPE', 'SEZ_ID', 'Feature_Type', 'SEZ_Type', 'Ownership_Primary', 'Ownership_Secondary', 'Ownership_Secondary_2', 'Ownership_Secondary_3', 'Acres', 'Comments']\n",
    "#dfSEZ is assessment unit information from SDE?\n",
    "dfSEZ.loc[:,keep_columns].copy()\n",
    "dfSEZ['SEZ_ID']= dfSEZ['SEZ_ID'].astype(int)\n",
    "#Same for meadow(large polygon) and riverine(small polygon) data drop these columns because not needed in final merge, will assign SEZ ID later\n",
    "columns_to_drop = {'Year', 'SEZ_ID', 'GlobalID', 'last_edited_user', 'created_date', 'OBJECTID', 'created_user', 'last_edited_date'}\n",
    "\n",
    "#Name dataframes so we can reference later\n",
    "largepolygondata= {'dfbanks': dfbanks, \n",
    "                'dfaveraged_biotic': averaged_biotic_df,\n",
    "                'dfconifer': dfconifer,\n",
    "                'dfditch': dfditch,\n",
    "                'dfinvasive': dfinvasive,\n",
    "                'dfhabitat': dfhabitat,\n",
    "                'dfvegetation': dfvegetation,\n",
    "                'dfincision': dfincision,\n",
    "                'dfheadcuts': dfheadcuts,\n",
    "                'dfAOP': dfAOP\n",
    "}\n",
    "\n",
    "\n",
    "#Staging Tables Riverine/ small polygons\n",
    "smallpolygondata = {'dfbanks': dfbanks, \n",
    "                'dfaveraged_biotic': averaged_biotic_df,\n",
    "                'dfconifer': dfconifer,\n",
    "                'dfditch': dfditch,\n",
    "                'dfinvasive': dfinvasive,\n",
    "                'dfhabitat': dfhabitat,\n",
    "                'dfvegetation': dfvegetation,\n",
    "                'dfincision': dfincision,\n",
    "                'dfheadcuts': dfheadcuts,\n",
    "                'dfAOP': dfAOP\n",
    "}\n",
    "# Process large polygon (meadow) and small polygon (riverine) data\n",
    "processed_largepolygon_data = process_data(largepolygondata, lookup_dict, columns_to_drop)\n",
    "processed_smallpolygon_data = process_data(smallpolygondata, lookup_riverine, columns_to_drop)"
   ]
  }
 ],
 "metadata": {
  "kernelspec": {
   "display_name": "Python 3",
   "language": "python",
   "name": "python3"
  },
  "language_info": {
   "codemirror_mode": {
    "name": "ipython",
    "version": 3
   },
   "file_extension": ".py",
   "mimetype": "text/x-python",
   "name": "python",
   "nbconvert_exporter": "python",
   "pygments_lexer": "ipython3",
   "version": "3.11.10"
  }
 },
 "nbformat": 4,
 "nbformat_minor": 2
}
