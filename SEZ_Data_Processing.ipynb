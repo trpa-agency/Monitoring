{
 "cells": [
  {
   "cell_type": "markdown",
   "metadata": {},
   "source": [
    "##Set Up"
   ]
  },
  {
   "cell_type": "code",
   "execution_count": null,
   "metadata": {},
   "outputs": [],
   "source": [
    "import arcpy\n",
    "from datetime import datetime\n",
    "import os\n",
    "import sys\n",
    "from sqlalchemy.engine import URL\n",
    "from sqlalchemy import create_engine\n",
    "import sqlalchemy as sa\n",
    "import pandas as pd\n",
    "from arcgis import GIS\n",
    "from arcgis.features import FeatureSet, GeoAccessor, GeoSeriesAccessor, FeatureLayer\n",
    "import pandas as pd\n",
    "import numpy as np\n",
    "import requests\n",
    "\n",
    "gis = GIS()\n",
    "# # Set Pandas display options to show all rows and columns\n",
    "# pd.set_option('display.max_rows', None)\n",
    "# pd.set_option('display.max_columns', None)\n",
    "# in memory output file path\n",
    "wk_memory = \"memory\" + \"\\\\\"\n",
    "\n",
    "# set workspace and sde connections \n",
    "working_folder = r\"F:/GIS/GIS_DATA/Monitoring/\"\n",
    "workspace      = \"C:\\GIS\\Scratch.gdb\"\n",
    "arcpy.env.workspace = \"C:\\GIS\\Scratch.gdb\"\n",
    "\n",
    "# network path to connection files\n",
    "filePath = r\"C:\\\\GIS\\\\DB_CONNECT\"\n",
    "\n",
    "# database file path \n",
    "sdeBase    = os.path.join(filePath, \"Vector.sde\")\n",
    "sdeCollect = os.path.join(filePath, \"Collection.sde\")\n",
    "\n",
    "# local variables\n",
    "fdata = os.path.join(sdeBase, \"sde.SDE.Monitoring\")\n",
    "## Final feature class to append to in Enterprise Geodatabase double check this\n",
    "sdeSEZ = os.path.join(sdeBase, \"sde.SDE.Monitoring\\sde.SDE.SEZ_Assessment_Unit\")\n",
    "\n",
    "## GDB with Raw Data straight from S123\n",
    "headcutgdb = os.path.join(working_folder,\"Stream_Headcut\",\"Stream_Headcut_Survey\", \"Stream_Headcut_Survey_2023.gdb\")\n",
    "erosiongdb = os.path.join(working_folder, \"Stream_Erosion\",\"Stream_Erosion_Survey\", \"Stream_Erosion_Survey_2023.gdb\")\n",
    "invasiveplantgdb= os.path.join(working_folder,\"Invasive_Species\",\"Invasive_Species_Survey\",\"Invasive_Species_Survey_2023.gdb\")\n",
    "channelincisiongdb = os.path.join(working_folder,\"Channel_Incision\",\"Channel_Incision_Survey\",\"Channel_Incision_Survey_2023.gdb\")\n",
    "\n",
    "#This is thelocatoin for the final SEZ GDB to be updated in the gdb on f drive in the AssessmentUnits Master (polygon) i believe... could just be on SDE\n",
    "FinalGDBtoupdate:F:\\GIS\\PROJECTS\\ResearchAnalysis\\SEZ\\Data \\SEZ_Data.gdb"
   ]
  },
  {
   "cell_type": "markdown",
   "metadata": {},
   "source": [
    "### Stream Erosion "
   ]
  },
  {
   "cell_type": "code",
   "execution_count": null,
   "metadata": {},
   "outputs": [],
   "source": [
    "# Stream Erosion Data Processing from GDB\n",
    "\n",
    "# Set the workspace to your Geodatabase\n",
    "arcpy.env.workspace = erosiongdb\n",
    "\n",
    "# Input feature class or table\n",
    "input_fc = 'Stream_Erosion'\n",
    "\n",
    "# Convert feature class to Pandas DataFrame\n",
    "erosionfields = ['Assessment_Unit_Name', 'Shape_Length', 'Bank_Type', 'Percent_Unstable',]\n",
    "erosiondf = pd.DataFrame.from_records(data=arcpy.da.SearchCursor(input_fc, erosionfields), columns=erosionfields)\n",
    "\n",
    "# Initialize variables\n",
    "erosiondf['bank_multiplier'] = erosiondf['Bank_Type'].apply(lambda x: 2 if x == 'Both Banks' else (1 if x == 'One Bank' else 0))\n",
    "\n",
    "# Calculate the total length of banks assessed\n",
    "total_banks_assessed = (erosiondf['Shape_Length'].sum()) * 2\n",
    "\n",
    "# Calculate the total length of eroded banks\n",
    "total_eroded_banks = (erosiondf['Shape_Length'] * erosiondf['bank_multiplier']).sum()\n",
    "\n",
    "# Update the 'percent_unstable' column\n",
    "erosiondf['percent_unstable'] = (total_eroded_banks / total_banks_assessed) * 100\n",
    "\n",
    "print(\"Total Banks Assessed:\", total_banks_assessed)\n",
    "print(\"Total Eroded Banks:\", total_eroded_banks)\n",
    "print(\"Updated DataFrame:\")\n",
    "print(erosiondf)\n",
    "\n",
    "# Write the DataFrame back to the feature class\n",
    "arcpy.da.UpdateCursor(input_fc, erosionfields) as cursor:\n",
    "    for index, row in erosiondf.iterrows():\n",
    "        cursor.updateRow(row)\n"
   ]
  },
  {
   "cell_type": "markdown",
   "metadata": {},
   "source": [
    "## Code for Grading each parameter"
   ]
  },
  {
   "cell_type": "code",
   "execution_count": null,
   "metadata": {},
   "outputs": [],
   "source": [
    "# Grading for each parameter add to final SDE file?\n",
    "#Defining Grade for Channel Stability based on Erosiondf[percent_unstable]\n",
    "def categorize_erosion(Percent_Unstable):\n",
    "    if 0 <= value < 5:\n",
    "        return 'A'\n",
    "    elif 5 <= value < 20:\n",
    "        return 'B'\n",
    "    elif 20 <= value < 50:\n",
    "        return 'C'\n",
    "    else:\n",
    "        return 'D'\n",
    "\n",
    "\n",
    "#Define Grade for Incision based off of bankful height to bankful depth\n",
    "\n",
    "def categorize_incision(bankful_ratio)\n",
    "     if 0 <= bankful_ratio < 1.2:\n",
    "        return 'A'\n",
    "    elif 1.2 <= bankful_ratio < 1.6:\n",
    "        return 'B'\n",
    "    elif 1.6 <= bankful_ratio < 2.1:\n",
    "        return 'C'\n",
    "    else:\n",
    "        return 'D'\n",
    "\n",
    "#Define Grade for Headcut based off of headcut size---fix this\n",
    "def categorize_headcut(value)\n",
    "     if value = 0\n",
    "        return 'A'\n",
    "    elif 1.2 <= value < 1.6:\n",
    "        return 'B'\n",
    "    elif value =\n",
    "        return 'C'\n",
    "    else:\n",
    "        return 'D'\n",
    "\n",
    "Define Grade for Invasive based off of invasive\n"
   ]
  },
  {
   "cell_type": "code",
   "execution_count": null,
   "metadata": {},
   "outputs": [],
   "source": [
    "#Channel Incision Process Data\n"
   ]
  },
  {
   "cell_type": "code",
   "execution_count": null,
   "metadata": {},
   "outputs": [],
   "source": [
    "#Invasive Species"
   ]
  }
 ],
 "metadata": {
  "language_info": {
   "name": "python"
  }
 },
 "nbformat": 4,
 "nbformat_minor": 2
}
