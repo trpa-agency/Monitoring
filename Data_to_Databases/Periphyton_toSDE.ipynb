{
 "cells": [
  {
   "cell_type": "code",
   "execution_count": 8,
   "metadata": {},
   "outputs": [
    {
     "name": "stderr",
     "output_type": "stream",
     "text": [
      "C:\\Users\\snewsome\\AppData\\Local\\Temp\\ipykernel_25468\\621656644.py:31: SettingWithCopyWarning: \n",
      "A value is trying to be set on a copy of a slice from a DataFrame.\n",
      "Try using .loc[row_indexer,col_indexer] = value instead\n",
      "\n",
      "See the caveats in the documentation: https://pandas.pydata.org/pandas-docs/stable/user_guide/indexing.html#returning-a-view-versus-a-copy\n",
      "  df['unit'] = 'Chla_mg_m2'\n"
     ]
    }
   ],
   "source": [
    "#import libraries\n",
    "import os\n",
    "import pandas as pd\n",
    "import arcpy\n",
    "\n",
    "def get_periphyton_data():\n",
    "    #Import DAta\n",
    "    file_path = r\"F:\\Research and Analysis\\Water Quality Monitoring Program\\Nearshore\\IntegratedAlgaeMonitoring\\data\\Peri\"\n",
    "    #file_path = local_path.parents[0] / '2023/data/raw_data'\n",
    "    # Load each CSV file into a DataFrame\n",
    "    inclinedf = pd.read_csv(os.path.join(file_path, 'InclineWest_Historic.csv'))\n",
    "    Pinelanddf = pd.read_csv(os.path.join(file_path, 'Pineland_Historic.csv'))\n",
    "    Rubicondf = pd.read_csv(os.path.join(file_path, 'Rubicon_Historic.csv'))\n",
    "    Sugarpinedf = pd.read_csv(os.path.join(file_path, 'Sugarpine_Historic.csv'))\n",
    "    TahoeCitydf = pd.read_csv(os.path.join(file_path, 'TahoeCity_Historic.csv'))\n",
    "    Zephyrdf = pd.read_csv(os.path.join(file_path, 'Zephyr_Historic.csv'))\n",
    "\n",
    "    #Combine All Dataframes\n",
    "    df = pd.concat([inclinedf, Pinelanddf, Rubicondf, Sugarpinedf, TahoeCitydf, Zephyrdf], ignore_index=True)\n",
    "    return df\n",
    "\n",
    "df= get_periphyton_data()\n",
    "\n",
    "def format_peri(df, start_date):\n",
    "    # Convert 'Sample_Date' to datetime\n",
    "    df['Sample_Date'] = pd.to_datetime(df['Sample_Date'])\n",
    "    \n",
    "    # Filter the DataFrame to include only the data from the specified date and newer\n",
    "    df = df[df['Sample_Date'] >= start_date]\n",
    "\n",
    "    df['unit'] = 'Chla_mg_m2'\n",
    "    # Rename site, date and 'chl' column\n",
    "    df = df.rename(columns={'site': 'id', 'Sample_Date': 'Date', 'Chl': 'value'})\n",
    "    \n",
    "    # Keep id, Date, value, and unit only\n",
    "    keep_columns = ['id', 'Date', 'value', 'unit']\n",
    "\n",
    "    # Drop all columns except for 'id', 'Date', 'value', and 'unit'\n",
    "    df = df[keep_columns]\n",
    "\n",
    "    # Reset the index\n",
    "    df = df.reset_index(drop=True)\n",
    "\n",
    "    #drop rows with missing values\n",
    "    df = df.dropna()\n",
    "    \n",
    "    return df\n",
    "\n",
    "readydf = format_peri(df, '2016-10-20')\n"
   ]
  },
  {
   "cell_type": "code",
   "execution_count": 6,
   "metadata": {},
   "outputs": [
    {
     "data": {
      "text/plain": [
       "id               object\n",
       "Date     datetime64[ns]\n",
       "value           float64\n",
       "unit             object\n",
       "dtype: object"
      ]
     },
     "execution_count": 6,
     "metadata": {},
     "output_type": "execute_result"
    }
   ],
   "source": [
    "#check data types\n",
    "readydf.dtypes"
   ]
  },
  {
   "cell_type": "code",
   "execution_count": 10,
   "metadata": {},
   "outputs": [
    {
     "name": "stdout",
     "output_type": "stream",
     "text": [
      "Deleted existing table: Peri_temp\n",
      "Table 'Peri_temp' created and populated in F:\\Research and Analysis\\Workspace\\Sarah\\Scratch.gdb\n"
     ]
    }
   ],
   "source": [
    "type_mapping = {\n",
    "        'float64': 'DOUBLE',\n",
    "        'object': 'TEXT',\n",
    "        'string': 'TEXT',\n",
    "        'datetime64[ns]': 'TEXT'\n",
    "    }\n",
    "# Set up geodatabase and output table name\n",
    "gdb_path = r\"F:\\Research and Analysis\\Workspace\\Sarah\\Scratch.gdb\"\n",
    "output_table = \"Peri_temp\"\n",
    "output_path = f\"{gdb_path}\\\\{output_table}\"\n",
    "\n",
    "#Delete existing table if it exists\n",
    "if arcpy.Exists(output_path):\n",
    "    arcpy.management.Delete(output_path)\n",
    "    print(f\"Deleted existing table: {output_table}\")\n",
    "\n",
    "# Create the table in the geodatabase\n",
    "arcpy.management.CreateTable(gdb_path, output_table)\n",
    "\n",
    "# # Identify date columns (assume they are 'object' type but contain dates)\n",
    "# date_columns = [col for col in df_long.columns if pd.api.types.is_datetime64_any_dtype(df_long[col])]\n",
    "\n",
    "\n",
    "# Add fields based on DataFrame dtypes\n",
    "for col_name, dtype in readydf.dtypes.items():\n",
    "    arcgis_type = type_mapping.get(str(dtype), 'TEXT')  # Default to TEXT if dtype is unknown\n",
    "    if arcgis_type == 'TEXT':\n",
    "        arcpy.management.AddField(output_path, col_name, arcgis_type, field_length=255)\n",
    "    else:\n",
    "        arcpy.management.AddField(output_path, col_name, arcgis_type)\n",
    " \n",
    "# Insert data into the table\n",
    "with arcpy.da.InsertCursor(output_path, readydf.columns.tolist()) as cursor:\n",
    "    for _, row in readydf.iterrows():\n",
    "        cursor.insertRow(row.tolist())\n",
    " \n",
    "print(f\"Table '{output_table}' created and populated in {gdb_path}\")"
   ]
  }
 ],
 "metadata": {
  "kernelspec": {
   "display_name": "Python 3",
   "language": "python",
   "name": "python3"
  },
  "language_info": {
   "codemirror_mode": {
    "name": "ipython",
    "version": 3
   },
   "file_extension": ".py",
   "mimetype": "text/x-python",
   "name": "python",
   "nbconvert_exporter": "python",
   "pygments_lexer": "ipython3",
   "version": "3.11.10"
  }
 },
 "nbformat": 4,
 "nbformat_minor": 2
}
