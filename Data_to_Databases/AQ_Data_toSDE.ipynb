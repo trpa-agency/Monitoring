{
 "cells": [
  {
   "cell_type": "markdown",
   "metadata": {},
   "source": [
    "#AQ"
   ]
  },
  {
   "cell_type": "code",
   "execution_count": 13,
   "metadata": {},
   "outputs": [],
   "source": [
    "\n",
    "# Import Data\n",
    "import pandas as pd\n",
    "import arcpy\n",
    "import os\n",
    "\n",
    "# 1. Specify File Paths\n",
    "file_paths = [r\"F:\\\\Research and Analysis\\\\Air Quality\\\\Annual Reports DRI\\\\AQ data 2023.xlsx\",\n",
    "              r\"F:\\\\Research and Analysis\\\\Air Quality\\\\Annual Reports DRI\\\\AQ data 2022.xlsx\",\n",
    "              r\"F:\\\\Research and Analysis\\\\Air Quality\\\\Annual Reports DRI\\\\AQ data 2021.xlsx\",\n",
    "              r\"F:\\\\Research and Analysis\\\\Air Quality\\\\Annual Reports DRI\\\\AQ data 2020.xlsx\",\n",
    "              r\"F:\\\\Research and Analysis\\\\Air Quality\\\\Annual Reports DRI\\\\AQ data 2019.xlsx\"\n",
    "              ]\n",
    "\n",
    "# 2. Read Data from Each File Daily Data\n",
    "dfs = []  # List to store DataFrames from each file\n",
    "sheet_name = 'daily'  # Name of the sheet to read\n",
    "\n",
    "for file_path in file_paths:\n",
    "    df = pd.read_excel(file_path, sheet_name=sheet_name, header=[0, 1])\n",
    "    dfs.append(df)\n",
    "\n",
    "# 3. Concatenate DAirrames\n",
    "DailyAir_df= pd.concat(dfs, ignore_index=True)\n",
    "\n",
    "# Melt the DataFrame to long format\n",
    "df_long = DailyAir_df.melt(id_vars=[('SITE', 'date')], var_name=['id', 'variable'], value_name='value')\n",
    "\n",
    "# Rename columns for clarity\n",
    "df_long = df_long.rename(columns={('SITE', 'date'): 'date'})\n",
    "\n",
    "# 4. Clean and Transform Data\n",
    "df_long['date'] = df_long['date'].dt.strftime('%m/%d/%y')\n",
    "\n",
    "#rename variable values\n",
    "# These are the values currenlty in the variable column in sde \n",
    "# CO - 8 hr max(ppm)\n",
    "# NO2 - 1 hr max(ppm)\n",
    "# O3 - 8 hr max(ppm)\n",
    "# PM10 - 24 hr max (mg/m3)\n",
    "# PM 2.5 - 24 hr max(mg/m3)\n",
    "\n",
    "\n",
    "# drop rows with variable name RH,BP, RWD, RWD.1, RWS Tmp\n",
    "df_long = df_long[~df_long['variable'].isin(['RH', 'BP', 'RWD', 'RWD.1', 'RWS', 'Tmp'])]\n",
    "#Rename Variables in variable column\n",
    "df_long['variable'] = df_long['variable'].replace({\n",
    "    'COmax': 'CO - 1 hr max (ppm)', \n",
    "    'max8hrCO': 'CO - 8 hr max (ppm)', \n",
    "    'NO2_avg': 'NO2 - annual mean (ppm)', \n",
    "    'NO2max': 'NO2 - 1 hr max (ppm)', \n",
    "    'O3max': 'O3 - 1 hr max (ppm)', \n",
    "    'max8hrO3': 'O3 - 8 hr max (ppm)', \n",
    "    'PM10max': 'PM10 - 24 hr max (mg/m3)',\n",
    "    'PM10avg': 'PM10 - annual mean (mg/m3)',\n",
    "    'PM2.5max': 'PM 2.5 - 24 hr max (mg/m3)',\n",
    "    'PM2.5avg': 'PM 2.5 - annual mean (mg/m3)',\n",
    "    'PM2.5avg.1': 'PM 2.5 - annual mean (mg/m3)'\n",
    "})\n",
    "\n",
    "#FORMAT DATAFRAMES\n",
    "# Define the path to the scratch geodatabase\n",
    "\n",
    "\n",
    "\n",
    "\n"
   ]
  },
  {
   "cell_type": "code",
   "execution_count": 14,
   "metadata": {},
   "outputs": [
    {
     "name": "stdout",
     "output_type": "stream",
     "text": [
      "Data successfully appended to F:\\Research and Analysis\\Workspace\\Sarah\\Scratch.gdb\\AirQuality_Final\n"
     ]
    }
   ],
   "source": [
    "# 4. Save DataFrame to CSV (Temporary File)\n",
    "temp_csv = r\"C:\\Users\\snewsome\\Documents\\Monitoring data updates\\temp_air_quality.csv\"\n",
    "df_long.to_csv(temp_csv, index=False)\n",
    "\n",
    "# 5. Convert CSV to Table in Geodatabase\n",
    "gdb_path = r\"F:\\Research and Analysis\\Workspace\\Sarah\\Scratch.gdb\"\n",
    "table_name = \"AirQuality_Temp\"\n",
    "output_table = os.path.join(gdb_path, table_name)\n",
    "\n",
    "if arcpy.Exists(output_table):\n",
    "    arcpy.Delete_management(output_table)  # Ensure old data is removed\n",
    "\n",
    "arcpy.TableToTable_conversion(temp_csv, gdb_path, table_name)\n",
    "\n",
    "# 6. Append to Final Feature Class\n",
    "final_fc = os.path.join(gdb_path, \"AirQuality_Final\")\n",
    "\n",
    "if not arcpy.Exists(final_fc):\n",
    "    # Create the feature class if it does not exist\n",
    "    arcpy.CreateFeatureclass_management(gdb_path, \"AirQuality_Final\", \"POINT\")\n",
    "\n",
    "# Append new data\n",
    "arcpy.Append_management(output_table, final_fc, \"NO_TEST\")\n",
    "\n",
    "print(\"Data successfully appended to\", final_fc)"
   ]
  }
 ],
 "metadata": {
  "kernelspec": {
   "display_name": "Python 3",
   "language": "python",
   "name": "python3"
  },
  "language_info": {
   "codemirror_mode": {
    "name": "ipython",
    "version": 3
   },
   "file_extension": ".py",
   "mimetype": "text/x-python",
   "name": "python",
   "nbconvert_exporter": "python",
   "pygments_lexer": "ipython3",
   "version": "3.11.10"
  }
 },
 "nbformat": 4,
 "nbformat_minor": 2
}
